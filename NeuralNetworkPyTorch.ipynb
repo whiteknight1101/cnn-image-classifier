{
  "nbformat": 4,
  "nbformat_minor": 0,
  "metadata": {
    "colab": {
      "provenance": []
    },
    "kernelspec": {
      "name": "python3",
      "display_name": "Python 3"
    },
    "language_info": {
      "name": "python"
    },
    "accelerator": "GPU",
    "gpuClass": "standard"
  },
  "cells": [
    {
      "cell_type": "markdown",
      "source": [
        "# Pytorch-Based CNN Implementation\n",
        "### COL341: Machine Learning A4\n",
        "#### Viraj Agashe (2020CS10567)\n",
        "\n",
        "**Base Implementation**\n"
      ],
      "metadata": {
        "id": "wKjpIDG-wlB-"
      }
    },
    {
      "cell_type": "code",
      "execution_count": 1,
      "metadata": {
        "id": "f9qtIGeRvICf"
      },
      "outputs": [],
      "source": [
        "import torch\n",
        "import torchvision\n",
        "import torchvision.transforms as transforms\n",
        "import numpy as np"
      ]
    },
    {
      "cell_type": "code",
      "source": [
        "# scheduler = torch.optim.lr_scheduler.OneCycleLR(optimizer, max_lr=0.01, steps_per_epoch=len(trainloader), epochs=20)\n",
        "# val_loss_4 = []\n",
        "# val_loss_8 = []\n",
        "# val_loss_16 = []\n",
        "# val_loss_32= []"
      ],
      "metadata": {
        "id": "NbsGKwFXwDWE"
      },
      "execution_count": null,
      "outputs": []
    },
    {
      "cell_type": "code",
      "source": [
        "# Normalize the data\n",
        "transform = transforms.Compose(\n",
        "    [transforms.RandomHorizontalFlip(),\n",
        "      transforms.ToTensor(),\n",
        "     transforms.Normalize((0.5, 0.5, 0.5), (0.5, 0.5, 0.5))])\n",
        "\n",
        "batch_size = 32\n",
        "\n",
        "trainset = torchvision.datasets.CIFAR10(root='./data', train=True,\n",
        "                                        download=True, transform=transform)\n",
        "\n",
        "trainloader = torch.utils.data.DataLoader(trainset, batch_size=batch_size,\n",
        "                                          shuffle=True, num_workers=2)\n",
        "\n",
        "testset = torchvision.datasets.CIFAR10(root='./data', train=False,\n",
        "                                       download=True, transform=transform)\n",
        "testloader = torch.utils.data.DataLoader(testset, batch_size=batch_size,\n",
        "                                         shuffle=False, num_workers=2)\n",
        "\n",
        "classes = ('plane', 'car', 'bird', 'cat',\n",
        "           'deer', 'dog', 'frog', 'horse', 'ship', 'truck')"
      ],
      "metadata": {
        "colab": {
          "base_uri": "https://localhost:8080/"
        },
        "id": "bLvLXzpWxT3I",
        "outputId": "393cc886-b1f5-4603-cd41-668a9a27ba30"
      },
      "execution_count": 2,
      "outputs": [
        {
          "output_type": "stream",
          "name": "stdout",
          "text": [
            "Downloading https://www.cs.toronto.edu/~kriz/cifar-10-python.tar.gz to ./data/cifar-10-python.tar.gz\n"
          ]
        },
        {
          "output_type": "stream",
          "name": "stderr",
          "text": [
            "100%|██████████| 170498071/170498071 [00:13<00:00, 12990394.35it/s]\n"
          ]
        },
        {
          "output_type": "stream",
          "name": "stdout",
          "text": [
            "Extracting ./data/cifar-10-python.tar.gz to ./data\n",
            "Files already downloaded and verified\n"
          ]
        }
      ]
    },
    {
      "cell_type": "code",
      "source": [
        "import torch.nn as nn\n",
        "import torch.nn.functional as F"
      ],
      "metadata": {
        "id": "VCtEDd7FxqEL"
      },
      "execution_count": 5,
      "outputs": []
    },
    {
      "cell_type": "code",
      "source": [
        "class Net(nn.Module):\n",
        "    def __init__(self):\n",
        "        super().__init__()\n",
        "        self.conv1 = nn.Conv2d(3, 32, 3)\n",
        "        self.pool = nn.MaxPool2d(2, stride=1)\n",
        "        self.conv2 = nn.Conv2d(32, 64, 5)\n",
        "        self.conv3 = nn.Conv2d(64,64,3)\n",
        "        self.fc1 = nn.Linear(64 * 22 * 22, 64)\n",
        "        self.fc2 = nn.Linear(64, 10)\n",
        "\n",
        "    def forward(self, x):\n",
        "        x = self.pool(F.relu(self.conv1(x)))\n",
        "        x = self.pool(F.relu(self.conv2(x)))\n",
        "        x = F.relu(self.conv3(x))\n",
        "        x = torch.flatten(x, 1) # flatten all dimensions except batch\n",
        "        x = F.relu(self.fc1(x))\n",
        "        x = F.relu(self.fc2(x))\n",
        "        return x"
      ],
      "metadata": {
        "id": "MMzoslpazwx4"
      },
      "execution_count": 6,
      "outputs": []
    },
    {
      "cell_type": "code",
      "source": [
        "net = Net()\n",
        "\n",
        "device = torch.device('cuda:0' if torch.cuda.is_available() else 'cpu')\n",
        "\n",
        "print(device)\n",
        "\n",
        "net.to(device)"
      ],
      "metadata": {
        "colab": {
          "base_uri": "https://localhost:8080/"
        },
        "id": "qcjDssBg868c",
        "outputId": "3fc111e0-7f36-41ef-ae9a-d041a6c19967"
      },
      "execution_count": 7,
      "outputs": [
        {
          "output_type": "stream",
          "name": "stdout",
          "text": [
            "cuda:0\n"
          ]
        },
        {
          "output_type": "execute_result",
          "data": {
            "text/plain": [
              "Net(\n",
              "  (conv1): Conv2d(3, 32, kernel_size=(3, 3), stride=(1, 1))\n",
              "  (pool): MaxPool2d(kernel_size=2, stride=1, padding=0, dilation=1, ceil_mode=False)\n",
              "  (conv2): Conv2d(32, 64, kernel_size=(5, 5), stride=(1, 1))\n",
              "  (conv3): Conv2d(64, 64, kernel_size=(3, 3), stride=(1, 1))\n",
              "  (fc1): Linear(in_features=30976, out_features=64, bias=True)\n",
              "  (fc2): Linear(in_features=64, out_features=10, bias=True)\n",
              ")"
            ]
          },
          "metadata": {},
          "execution_count": 7
        }
      ]
    },
    {
      "cell_type": "code",
      "source": [
        "import torch.optim as optim\n",
        "\n",
        "criterion = nn.CrossEntropyLoss()\n",
        "optimizer = optim.SGD(net.parameters(), lr=0.001, momentum=0.9)"
      ],
      "metadata": {
        "id": "BhqU62e36ymW"
      },
      "execution_count": 8,
      "outputs": []
    },
    {
      "cell_type": "markdown",
      "source": [
        "## **4.1 Hyper Parameter Tuning**\n",
        "Effect of Learning Rate \n",
        "\n",
        "---\n",
        "We train the Neural Network with various various of $\\alpha$ and we observe the impact on the accuracies. \n",
        "\n",
        "\n",
        "\n",
        "\n",
        "\n",
        "\n",
        "\n"
      ],
      "metadata": {
        "id": "a6UAh7SQHttF"
      }
    },
    {
      "cell_type": "code",
      "source": [
        "train_loss = []\n",
        "val_loss = []\n",
        "\n",
        "for epoch in range(15):  # loop over the dataset multiple times\n",
        "    print(\"Starting epoch: \", epoch)\n",
        "    running_loss = 0.0\n",
        "    train_step_loss = []\n",
        "    \n",
        "    for i, data in enumerate(trainloader, 0):\n",
        "        # get the inputs; data is a list of [inputs, labels]\n",
        "        inputs, labels = data[0].to(device), data[1].to(device)\n",
        "\n",
        "        # zero the parameter gradients\n",
        "        optimizer.zero_grad()\n",
        "\n",
        "        # forward + backward + optimize\n",
        "        outputs = net(inputs)\n",
        "        loss = criterion(outputs, labels)\n",
        "        loss.backward()\n",
        "        optimizer.step()\n",
        "\n",
        "        # print statistics\n",
        "        train_step_loss.append(loss.item())\n",
        "        running_loss += loss.item()\n",
        "        if i % 500 == 499:    # print every 100 mini-batches\n",
        "            print(f'[{epoch + 1}, {i + 1:5d}] loss: {running_loss / 500:.5f}')\n",
        "            running_loss = 0.0\n",
        "    train_loss.append(np.array(train_step_loss).mean())\n",
        "    # scheduler.step()\n",
        "\n",
        "    with torch.no_grad():\n",
        "      correct = 0\n",
        "      total = 0\n",
        "      val_step_loss = []\n",
        "      for val_data in testloader:\n",
        "          val_images, val_labels = val_data[0].to(device), val_data[1].to(device)\n",
        "          v_outputs = net(val_images)\n",
        "          v_loss = criterion(v_outputs, val_labels)\n",
        "          val_step_loss.append(v_loss.item())\n",
        "          _, predicted = torch.max(v_outputs.data, 1)\n",
        "          total += val_labels.size(0)\n",
        "          correct += (predicted == val_labels).sum().item()\n",
        "      val_acc = correct/total\n",
        "      print(\"Validation Accuracy after epoch {} is {:.3f}\".format(epoch, val_acc))\n",
        "\n",
        "    val_loss.append(np.array(val_step_loss).mean()) # Change here \n",
        "    # print(\"Validation Loss after epoch {} is {}\".format(epoch, val_loss_4[-1])) # Change here\n",
        "    # print(\"Validation acc\")\n",
        "\n",
        "print('Finished Training!')"
      ],
      "metadata": {
        "colab": {
          "base_uri": "https://localhost:8080/"
        },
        "id": "pDG_FGRf63yQ",
        "outputId": "42e136d5-f742-410c-f64a-7f20d3fed519"
      },
      "execution_count": 9,
      "outputs": [
        {
          "output_type": "stream",
          "name": "stdout",
          "text": [
            "Starting epoch:  0\n",
            "[1,   500] loss: 2.18032\n",
            "[1,  1000] loss: 1.81965\n",
            "[1,  1500] loss: 1.56115\n",
            "Validation Accuracy after epoch 0 is 0.439\n",
            "Starting epoch:  1\n",
            "[2,   500] loss: 1.44375\n",
            "[2,  1000] loss: 1.37986\n",
            "[2,  1500] loss: 1.30580\n",
            "Validation Accuracy after epoch 1 is 0.552\n",
            "Starting epoch:  2\n",
            "[3,   500] loss: 1.26792\n",
            "[3,  1000] loss: 1.21056\n",
            "[3,  1500] loss: 1.17528\n",
            "Validation Accuracy after epoch 2 is 0.583\n",
            "Starting epoch:  3\n",
            "[4,   500] loss: 1.09672\n",
            "[4,  1000] loss: 1.06106\n",
            "[4,  1500] loss: 1.04421\n",
            "Validation Accuracy after epoch 3 is 0.619\n",
            "Starting epoch:  4\n",
            "[5,   500] loss: 0.98477\n",
            "[5,  1000] loss: 0.95075\n",
            "[5,  1500] loss: 0.94243\n",
            "Validation Accuracy after epoch 4 is 0.671\n",
            "Starting epoch:  5\n",
            "[6,   500] loss: 0.88872\n",
            "[6,  1000] loss: 0.87949\n",
            "[6,  1500] loss: 0.85822\n",
            "Validation Accuracy after epoch 5 is 0.696\n",
            "Starting epoch:  6\n",
            "[7,   500] loss: 0.82270\n",
            "[7,  1000] loss: 0.80711\n",
            "[7,  1500] loss: 0.78737\n",
            "Validation Accuracy after epoch 6 is 0.697\n",
            "Starting epoch:  7\n",
            "[8,   500] loss: 0.74763\n",
            "[8,  1000] loss: 0.75615\n",
            "[8,  1500] loss: 0.74793\n",
            "Validation Accuracy after epoch 7 is 0.714\n",
            "Starting epoch:  8\n",
            "[9,   500] loss: 0.69635\n",
            "[9,  1000] loss: 0.70907\n",
            "[9,  1500] loss: 0.70133\n",
            "Validation Accuracy after epoch 8 is 0.723\n",
            "Starting epoch:  9\n",
            "[10,   500] loss: 0.65330\n",
            "[10,  1000] loss: 0.65622\n",
            "[10,  1500] loss: 0.67208\n",
            "Validation Accuracy after epoch 9 is 0.732\n",
            "Starting epoch:  10\n",
            "[11,   500] loss: 0.60796\n",
            "[11,  1000] loss: 0.60969\n",
            "[11,  1500] loss: 0.64186\n",
            "Validation Accuracy after epoch 10 is 0.747\n",
            "Starting epoch:  11\n",
            "[12,   500] loss: 0.57769\n",
            "[12,  1000] loss: 0.58562\n",
            "[12,  1500] loss: 0.59037\n",
            "Validation Accuracy after epoch 11 is 0.750\n",
            "Starting epoch:  12\n",
            "[13,   500] loss: 0.53127\n",
            "[13,  1000] loss: 0.55802\n",
            "[13,  1500] loss: 0.55285\n",
            "Validation Accuracy after epoch 12 is 0.743\n",
            "Starting epoch:  13\n",
            "[14,   500] loss: 0.50519\n",
            "[14,  1000] loss: 0.52146\n",
            "[14,  1500] loss: 0.52446\n",
            "Validation Accuracy after epoch 13 is 0.756\n",
            "Starting epoch:  14\n",
            "[15,   500] loss: 0.48725\n",
            "[15,  1000] loss: 0.48153\n",
            "[15,  1500] loss: 0.47441\n",
            "Validation Accuracy after epoch 14 is 0.756\n",
            "Finished Training!\n"
          ]
        }
      ]
    },
    {
      "cell_type": "code",
      "source": [
        "from matplotlib import pyplot as plt\n",
        "plt.plot(train_loss, label='train_loss')\n",
        "plt.plot(val_loss, label='val_loss')\n",
        "plt.xlabel('epochs')\n",
        "plt.legend()\n",
        "plt.show"
      ],
      "metadata": {
        "colab": {
          "base_uri": "https://localhost:8080/",
          "height": 466
        },
        "id": "vZBgSg2RcF-G",
        "outputId": "cb7e9348-2837-4c66-ffdb-8b027b6d47df"
      },
      "execution_count": 10,
      "outputs": [
        {
          "output_type": "execute_result",
          "data": {
            "text/plain": [
              "<function matplotlib.pyplot.show(close=None, block=None)>"
            ]
          },
          "metadata": {},
          "execution_count": 10
        },
        {
          "output_type": "display_data",
          "data": {
            "text/plain": [
              "<Figure size 640x480 with 1 Axes>"
            ],
            "image/png": "[encoded data removed]"
          },
          "metadata": {}
        }
      ]
    },
    {
      "cell_type": "code",
      "source": [
        "correct = 0\n",
        "total = 0\n",
        "\n",
        "with torch.no_grad():\n",
        "    for data in trainloader:\n",
        "        images, labels = data[0].to(device), data[1].to(device)\n",
        "        # calculate outputs by running images through the network\n",
        "        outputs = net(images)\n",
        "        # the class with the highest energy is what we choose as prediction\n",
        "        _, predicted = torch.max(outputs.data, 1)\n",
        "        total += labels.size(0)\n",
        "        correct += (predicted == labels).sum().item()\n",
        "\n",
        "print(f'Train Accuracy of the network: {100 * correct // total} %')"
      ],
      "metadata": {
        "colab": {
          "base_uri": "https://localhost:8080/"
        },
        "id": "poYgpBDdCt92",
        "outputId": "3f0ac8b5-05c7-4b36-acf5-9e1bd0192ed1"
      },
      "execution_count": 11,
      "outputs": [
        {
          "output_type": "stream",
          "name": "stdout",
          "text": [
            "Train Accuracy of the network: 85 %\n"
          ]
        }
      ]
    },
    {
      "cell_type": "code",
      "source": [
        "correct = 0\n",
        "total = 0\n",
        "\n",
        "with torch.no_grad():\n",
        "    for data in testloader:\n",
        "        images, labels = data[0].to(device), data[1].to(device)\n",
        "        # calculate outputs by running images through the network\n",
        "        outputs = net(images)\n",
        "        # the class with the highest energy is what we choose as prediction\n",
        "        _, predicted = torch.max(outputs.data, 1)\n",
        "        total += labels.size(0)\n",
        "        correct += (predicted == labels).sum().item()\n",
        "\n",
        "print(f'Test Accuracy of the network on the 10000 test images: {100 * correct / total} %')"
      ],
      "metadata": {
        "colab": {
          "base_uri": "https://localhost:8080/"
        },
        "id": "mnXPynA-Bz12",
        "outputId": "25367562-a64f-436d-f40d-100086a4c4a1"
      },
      "execution_count": 12,
      "outputs": [
        {
          "output_type": "stream",
          "name": "stdout",
          "text": [
            "Test Accuracy of the network on the 10000 test images: 75.48 %\n"
          ]
        }
      ]
    },
    {
      "cell_type": "code",
      "source": [
        "# prepare to count predictions for each class\n",
        "correct_pred = {classname: 0 for classname in classes}\n",
        "total_pred = {classname: 0 for classname in classes}\n",
        "\n",
        "with torch.no_grad():\n",
        "    for data in testloader:\n",
        "        images, labels = data[0].to(device), data[1].to(device)\n",
        "        outputs = net(images)\n",
        "        _, predictions = torch.max(outputs, 1)\n",
        "        # collect the correct predictions for each class\n",
        "        for label, prediction in zip(labels, predictions):\n",
        "            if label == prediction:\n",
        "                correct_pred[classes[label]] += 1\n",
        "            total_pred[classes[label]] += 1\n",
        "\n",
        "# print accuracy for each class\n",
        "for classname, correct_count in correct_pred.items():\n",
        "    accuracy = 100 * float(correct_count) / total_pred[classname]\n",
        "    print(f'Accuracy for class: {classname:5s} is {accuracy:.1f} %')"
      ],
      "metadata": {
        "colab": {
          "base_uri": "https://localhost:8080/"
        },
        "id": "QkrOusgmHk67",
        "outputId": "8b8a7e35-3e30-4d0f-940c-26c8ad8fbccd"
      },
      "execution_count": 13,
      "outputs": [
        {
          "output_type": "stream",
          "name": "stdout",
          "text": [
            "Accuracy for class: plane is 77.9 %\n",
            "Accuracy for class: car   is 81.7 %\n",
            "Accuracy for class: bird  is 66.9 %\n",
            "Accuracy for class: cat   is 52.1 %\n",
            "Accuracy for class: deer  is 74.9 %\n",
            "Accuracy for class: dog   is 66.9 %\n",
            "Accuracy for class: frog  is 84.4 %\n",
            "Accuracy for class: horse is 75.1 %\n",
            "Accuracy for class: ship  is 86.2 %\n",
            "Accuracy for class: truck is 88.4 %\n"
          ]
        }
      ]
    },
    {
      "cell_type": "markdown",
      "source": [
        "## Experimenting with LR Schedulers "
      ],
      "metadata": {
        "id": "m4Yy6WwdtNDB"
      }
    },
    {
      "cell_type": "code",
      "source": [
        "# # optimizer = optim.Adam(net.parameters(), lr=0.001)\n",
        "\n",
        "# net_lr = Net()\n",
        "# net_lr.to(device)\n",
        "# optimizer_new = optim.SGD(net_lr.parameters(), lr=0.001, momentum=0.9)"
      ],
      "metadata": {
        "id": "bOzbfdz0BcO9"
      },
      "execution_count": null,
      "outputs": []
    },
    {
      "cell_type": "code",
      "source": [
        "# train_loss  = []\n",
        "# val_loss    = []\n",
        "\n",
        "# for epoch in range(20):  # loop over the dataset multiple times\n",
        "#     print(\"Starting epoch: \", epoch)\n",
        "#     running_loss = 0.0\n",
        "#     train_step_loss = []\n",
        "#     for i, data in enumerate(trainloader, 0):\n",
        "#         # get the inputs; data is a list of [inputs, labels]\n",
        "#         inputs, labels = data[0].to(device), data[1].to(device)\n",
        "\n",
        "#         # zero the parameter gradients\n",
        "#         optimizer_new.zero_grad()\n",
        "\n",
        "#         # forward + backward + optimize\n",
        "#         outputs = net_lr(inputs)\n",
        "#         loss = criterion(outputs, labels)\n",
        "#         loss.backward()\n",
        "#         optimizer_new.step()\n",
        "\n",
        "#         # print statistics\n",
        "#         train_step_loss.append(loss.item())\n",
        "#         running_loss += loss.item()\n",
        "#         if i % 500 == 499:    # print every 100 mini-batches\n",
        "#             print(f'[{epoch + 1}, {i + 1:5d}] loss: {running_loss / 500:.5f}')\n",
        "#             running_loss = 0.0\n",
        "#     train_loss.append(np.array(train_step_loss).mean())\n",
        "\n",
        "#     with torch.no_grad():\n",
        "#       val_step_loss = []\n",
        "#       for val_data in testloader:\n",
        "#           val_images, val_labels = val_data[0].to(device), val_data[1].to(device)\n",
        "#           v_outputs = net_lr(val_images)\n",
        "#           v_loss = criterion(v_outputs, val_labels)\n",
        "#           val_step_loss.append(v_loss.item())\n",
        "#     val_loss.append(np.array(val_step_loss).mean())\n",
        "#     print(\"Validation Loss after epoch {} is {}\".format(epoch, val_loss[-1]))\n",
        "#     scheduler.step()\n",
        "\n",
        "# print('Finished Training!')"
      ],
      "metadata": {
        "id": "fgP8Q6uaruDs"
      },
      "execution_count": null,
      "outputs": []
    },
    {
      "cell_type": "code",
      "source": [
        "from matplotlib import pyplot as plt\n",
        "plt.plot(train_loss, label='train_loss')\n",
        "plt.plot(val_loss, label='val_loss')\n",
        "plt.xlabel('epochs')\n",
        "plt.legend()\n",
        "plt.show"
      ],
      "metadata": {
        "id": "ISmNF_r6uAqa",
        "colab": {
          "base_uri": "https://localhost:8080/",
          "height": 467
        },
        "outputId": "f2ddd4c3-5238-48a1-a389-6c59229e5666"
      },
      "execution_count": null,
      "outputs": [
        {
          "output_type": "execute_result",
          "data": {
            "text/plain": [
              "<function matplotlib.pyplot.show(close=None, block=None)>"
            ]
          },
          "metadata": {},
          "execution_count": 56
        },
        {
          "output_type": "display_data",
          "data": {
            "text/plain": [
              "<Figure size 640x480 with 1 Axes>"
            ],
            "image/png": "[encoded data removed]"
          },
          "metadata": {}
        }
      ]
    }
  ]
}